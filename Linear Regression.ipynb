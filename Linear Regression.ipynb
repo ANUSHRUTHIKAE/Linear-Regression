{
 "cells": [
  {
   "cell_type": "markdown",
   "id": "5b442727",
   "metadata": {},
   "source": [
    "# LINEAR REGRESSION"
   ]
  },
  {
   "cell_type": "markdown",
   "id": "6bad5111",
   "metadata": {},
   "source": [
    "* **Regression analysis** : Statistical method to model the relationship between a continuous dependent (target) and independent (predictor) variables with one or more independent variables. \n",
    "\n",
    "* **Linear regression** is a statistical method used to model the relationship between a continuous dependent variable (target or label) and one or more independent variables (predictors or features) by fitting a predictor linear equation on the observed data.  \n",
    "    * simple linear regression- one independent variable\n",
    "    * multiple linear regression - more than one independent varaible"
   ]
  },
  {
   "cell_type": "markdown",
   "id": "f93bcffb",
   "metadata": {},
   "source": [
    "## SIMPLE LINEAR REGRESSION"
   ]
  },
  {
   "cell_type": "markdown",
   "id": "d8e8d93a",
   "metadata": {},
   "source": [
    "* The main aim is to find a best fit line with the coresponding slope and intercept values which can produce minimal residual error so that the predictions are as much as closer to the actual values.\n",
    "<img src=\"Images/LinearRegressionDiagram.png\" style=\"width:500px; height:300px;\">\n",
    "* Greater the relationship between the dependent and independent variable , more the accuracy of the linear model. i.e. closer the points to the line better the accuracy.\n",
    "<img src=\"Images/LinearRegressionFormula.png\" style=\"width:250px; height:50px;\">\n",
    "* The slope is calculated by the multiplying the correlation of the dependent and independent variable to the ratio of its standard deviation.\n",
    "<img src=\"Images/OLS.png\" style=\"width:300px; height:300px;\">\n",
    "<img src=\"Images/LinearRegressionSlope.png\" style=\"width:275px; height:70px;\">\n",
    "* The intercept is calculated by subracting the mean of the dependent variable from the product of the slope and the mean of the dependent variable.\n",
    "<img src=\"Images/LinearRegressionIntercept.png\" style=\"width:150px; height:50px;\">\n"
   ]
  },
  {
   "cell_type": "markdown",
   "id": "9b7bd319",
   "metadata": {},
   "source": [
    "## METRICS FOR EVALUATING REGRESSION "
   ]
  },
  {
   "cell_type": "markdown",
   "id": "2afb68c9",
   "metadata": {},
   "source": [
    "* **Types of loss functions** :\n",
    "    * **Regression Cost Function / Evaluation of Regression** :\n",
    "        * **Mean Error** : \n",
    "            * Mean of values\n",
    "            * simple approach but negative and positive errors can cancel out each other and result in zero-mean error model \n",
    "        * **Mean Square Error / L2 Loss** : \n",
    "            * Mean of the square of the difference between the actual value and predicted value\n",
    "            * advantage : \n",
    "                * Helps in reducing small deviation\n",
    "                * MSE is in the form of quadratic equation (ax*2 + bx + c) , thus when ploted gives a gradient descent with only one global minima and no local minima.\n",
    "                * penalises the model for making larger errors by squaring them.\n",
    "            * disadvantage : \n",
    "                * Error from outliers is also increased due to squaring thus MSE is not robust to remove them.\n",
    "            <img src=\"Images/MSE.png\" style=\"width:150px; height:50px;\">\n",
    "         * **Mean Absolute Error / L1 Loss** : \n",
    "              * Mean of the difference between the actual value and predicted value\n",
    "              * Advantage: Not afffected by noise or outliers and robust \n",
    "              * Disadvantage : \n",
    "                  * Computation is difficult (Modulus is expensive).\n",
    "                  * MAE is a linear equation, thus it may have local minima.\n",
    "            <img src=\"Images/MAE.png\" style=\"width:150px; height:50px;\">\n",
    "         * **Huber Loss / Smoothed L1 Loss** : \n",
    "             * Combination of both MSE and MAE.\n",
    "             <img src=\"Images/HuberLoss.png\" style=\"width:300px; height:100px;\" >\n",
    "             * Hyper parameter is a threshold for transition from quadratic (MSE) to Linear (MAE) Loss.\n",
    "             * When greater than the threshold it might be an outlier thus we compute MAE for those instances.\n",
    "             * Thus we get only one global minima for most of the instances and when the (y-y') value is greater than the thredhold we get multiple local minima.\n",
    "         * **Root Mean Square Error** :\n",
    "            * Root of the mean of the square of the difference between the actual value and predicted value\n",
    "             * Adavantage: Penalising Large Errors\n",
    "            <img src=\"Images/RMSE.png\" style=\"width:300px; height:80px;\">"
   ]
  },
  {
   "cell_type": "markdown",
   "id": "f49dafa3",
   "metadata": {},
   "source": [
    "## R^2 and Adjusted R^2"
   ]
  },
  {
   "cell_type": "markdown",
   "id": "dc2babff",
   "metadata": {},
   "source": [
    "* **R-squared** (R²) is a statistical measure used to assess the goodness of fit of a regression model.\n",
    "* Generally used to denote the accuracy of a regression model.\n",
    "<img src=\"Images/r2formula.png\" style=\"width:250px; height:150px;\">\n",
    "* R-squared indicates the proportion of the variability in the dependent variable that can be explained by the independent variable(s) included in the model.\n",
    "<img src=\"Images/SSres.png\" style=\"width:300px; height:250px;\">\n",
    "* **SSE** (SSres): \n",
    "    * (Sum of Squared Errors) is the sum of the squared differences between the actual values (y) and the predicted values (ŷ).  \n",
    "    * It represents the unexplained variation or the residual sum of squares.\n",
    "    \n",
    "<img src=\"Images/SStot.png\" style=\"width:300px; height:250px;\">   \n",
    "\n",
    "* **SST** (SStot) : \n",
    "    * (Total Sum of Squares) is the sum of the squared differences between the actual values (y) and the mean of the dependent variable. \n",
    "    * It represents the total variation in the dependent variable.\n",
    "\n",
    "\n",
    "* R-squared values range from 0 to 1, where:\n",
    "    * R² = 0: The model uses the mean of the dependent variable as the prediction for all observations.\n",
    "    * R² = 1: The model's predictions (best fit line) perfectly match the actual values.\n",
    "    * R² < 0 : The mean line is better predictor than the best fit line. i.e. SSE is lesser than SST.\n",
    "    * R² is closer to 1 in a good regression model.\n",
    "\n",
    "\n",
    "* The primary motivation for using **adjusted R-squared** is to penalize the inclusion of irrelevant or less significant predictors in the model. \n",
    "\n",
    "* When you add more predictors to a regression model, the R-squared value typically increases, even if the additional predictors don't contribute much to explaining the variation in the dependent variable. This can lead to an overly complex model that doesn't generalize well to new data. Thus we use Adjusted R².\n",
    "\n",
    "<img src=\"Images/Adjusted_r2formula.png\" style=\"width:300px; height:250px;\">\n",
    "\n",
    "* When the value of P increases, i.e the number of predictors increases (N-P-1) is a smaller value and when it is divides (N-1) it becomes a larger value. Thus when this calculated value is multiplied with (1-R²) we find that, if R² is maximum the whole ((n-1) / (n - k - 1)) * (1 - R²) is minimum and 1 minus the calculated value becomes maximum else it is minimum. \n",
    "* Thus only when the features which added are correlated to the dependent variable then only the Adjusted R² value is maximum.\n",
    "\n",
    "* Generally, Adjusted R² is less than equal to the R².\n",
    "\n",
    "\n"
   ]
  },
  {
   "cell_type": "markdown",
   "id": "f37df782",
   "metadata": {},
   "source": [
    "## COST FUNCTION AND GRADIENT DESCENT"
   ]
  },
  {
   "cell_type": "markdown",
   "id": "2302ad40",
   "metadata": {},
   "source": [
    "* The gradient descent is an optimisation algorithm for minimizing a cost function involves computing the gradient of the cost function with respect to the model's parameters (weights and biases) and then updating the parameters in the direction opposite to the gradient.\n",
    "* Let's consider a simple linear regression model with a single feature (X) and a target variable (y). The model's prediction is given by the equation: \n",
    "\n",
    "    y_pred = w * X + b\n",
    "\n",
    "    * y_pred: Predicted value\n",
    "    * w: Weight (slope)\n",
    "    * b: Bias (intercept)\n",
    "    * X: Feature\n",
    "* The cost function (also known as the mean squared error) that we want to minimize is:\n",
    "\n",
    "    J(w, b) = (1/2m) * Σ(y_pred - y)^2\n",
    "\n",
    "    * J(w, b): Cost function\n",
    "    * m: Number of data points\n",
    "    * Σ: Summation over all data points\n",
    "    * y_pred: Predicted value\n",
    "    * y: Actual value\n",
    "* Now, we want to find the values of w and b that minimize the cost function J(w, b). \n",
    "<img src=\"Images/gradient-descent.png\" style=\"width:400px; height:200px;\">\n",
    "* As we could see in the diagram, larger steps are taken at the begining and then as we go down the curve we take smaller differential steps , so that we dont miss the local minima corresponding to the (w,b). Thus, to take these differential steps we differentiate the cost function wrt to the slope and the intercept. If in case when the steps have a positive slope, it means we have missed the local minima and moving up the curve. In that case, we are supposed to take backward steps.\n",
    "* The gradient of J with respect to w and b is given by the partial derivatives:\n",
    "\n",
    "    ∂J/∂w = (1/m) * Σ((y_pred - y) * X)\n",
    "    \n",
    "    ∂J/∂b = (1/m) * Σ(y_pred - y)\n",
    "    \n",
    "* Now, we update the parameters w and b in each iteration(α - learning rate):\n",
    "\n",
    "    w := w - α * ∂J/∂w\n",
    "    \n",
    "    b := b - α * ∂J/∂b\n",
    "* These updates are performed until a stopping criterion is met (e.g., a maximum number of iterations or convergence to a certain tolerance level(local minima reached))."
   ]
  },
  {
   "cell_type": "markdown",
   "id": "466b6cea",
   "metadata": {},
   "source": [
    "## MANUAL IMPLEMENTATION OF LINEAR REGRESSION"
   ]
  },
  {
   "cell_type": "code",
   "execution_count": 1,
   "id": "0956781a",
   "metadata": {},
   "outputs": [],
   "source": [
    "import numpy as np\n",
    "import matplotlib.pyplot as plt"
   ]
  },
  {
   "cell_type": "code",
   "execution_count": 2,
   "id": "c2c10e6a",
   "metadata": {},
   "outputs": [],
   "source": [
    "# Sample data\n",
    "X = np.array([1, 2, 3, 4, 5])  # Independent variable (feature)\n",
    "y = np.array([2, 3.5, 4.5, 5.5, 6.5])  # Dependent variable (target)"
   ]
  },
  {
   "cell_type": "code",
   "execution_count": 3,
   "id": "4f103f3b",
   "metadata": {},
   "outputs": [],
   "source": [
    "# Hyperparameters\n",
    "learning_rate = 0.01\n",
    "epochs = 1000"
   ]
  },
  {
   "cell_type": "code",
   "execution_count": 4,
   "id": "ebb351ea",
   "metadata": {},
   "outputs": [],
   "source": [
    "# Initialize slope (coefficient) and intercept\n",
    "slope = 0\n",
    "intercept = 0"
   ]
  },
  {
   "cell_type": "code",
   "execution_count": 5,
   "id": "b8d07a3a",
   "metadata": {},
   "outputs": [],
   "source": [
    "# Manual Mean Squared Error (MSE) function\n",
    "def mse(y_true, y_pred):\n",
    "    return np.mean((y_true - y_pred) ** 2)"
   ]
  },
  {
   "cell_type": "code",
   "execution_count": 6,
   "id": "ef1abafd",
   "metadata": {},
   "outputs": [],
   "source": [
    "# Manual Mean Absolute Error (MAE) function\n",
    "def mae(y_true, y_pred):\n",
    "    return np.mean(np.abs(y_true - y_pred))"
   ]
  },
  {
   "cell_type": "code",
   "execution_count": 7,
   "id": "4fe6d9c5",
   "metadata": {},
   "outputs": [],
   "source": [
    "# Manual Root Mean Squared Error (RMSE) function\n",
    "def rmse(y_true, y_pred):\n",
    "    return np.sqrt(np.mean((y_true - y_pred) ** 2))"
   ]
  },
  {
   "cell_type": "code",
   "execution_count": 8,
   "id": "abdbb836",
   "metadata": {},
   "outputs": [],
   "source": [
    "#L1 or L2 regularisation initialise alpha\n",
    "#lamda = 0.1\n",
    "\n",
    "# Gradient Descent\n",
    "for _ in range(epochs):\n",
    "    y_pred = slope * X + intercept\n",
    "    error = y_pred - y\n",
    "    slope_gradient = 2 * np.dot(error, X) / len(X)\n",
    "    # for L1 regularisation manual implementation\n",
    "    # slope_gradient = (2 * np.dot(error, X) + lamda * np.sign(slope)) / len(X)\n",
    "    # for L2 regularisation manual implementation\n",
    "    # slope_gradient = (2 * np.dot(error, X) + lamda * np.sign(slope)) / len(X)\n",
    "    intercept_gradient = 2 * np.sum(error) / len(X)\n",
    "    slope -= learning_rate * slope_gradient\n",
    "    intercept -= learning_rate * intercept_gradient"
   ]
  },
  {
   "cell_type": "code",
   "execution_count": 9,
   "id": "2a2ad6c6",
   "metadata": {},
   "outputs": [],
   "source": [
    "# Make predictions\n",
    "y_pred = slope * X + intercept"
   ]
  },
  {
   "cell_type": "code",
   "execution_count": 10,
   "id": "94ec49d7",
   "metadata": {},
   "outputs": [],
   "source": [
    "# Calculate manual loss functions\n",
    "manual_mse = mse(y, y_pred)\n",
    "manual_mae = mae(y, y_pred)\n",
    "manual_rmse = rmse(y, y_pred)"
   ]
  },
  {
   "cell_type": "code",
   "execution_count": 16,
   "id": "d2d23dba",
   "metadata": {},
   "outputs": [],
   "source": [
    "# Calculate R-squared manually\n",
    "mean_y = np.mean(y)\n",
    "SST = np.sum((y - mean_y)**2)\n",
    "SSE = np.sum((y- y_pred)**2)\n",
    "R_squared = 1- (SSE / SST)"
   ]
  },
  {
   "cell_type": "code",
   "execution_count": 17,
   "id": "39736d3f",
   "metadata": {},
   "outputs": [],
   "source": [
    "# Calculate adjusted R-squared manually\n",
    "N = len(y)\n",
    "P = 1  # Number of predictors is 1 , as there is only 1 independent variable in simple linear regression.\n",
    "adjusted_R_squared = 1 - (1 - R_squared) * (N - 1) / (N - P - 1)"
   ]
  },
  {
   "cell_type": "code",
   "execution_count": 18,
   "id": "12db1754",
   "metadata": {},
   "outputs": [
    {
     "data": {
      "image/png": "[encoded data removed]",
      "text/plain": [
       "<Figure size 640x480 with 1 Axes>"
      ]
     },
     "metadata": {},
     "output_type": "display_data"
    }
   ],
   "source": [
    "# Plot the data and the linear regression line\n",
    "plt.scatter(X, y, label='Actual data')\n",
    "plt.plot(X, y_pred, color='red', label='Linear regression line')\n",
    "plt.xlabel('X')\n",
    "plt.ylabel('y')\n",
    "plt.title('Manual Linear Regression')\n",
    "plt.legend()\n",
    "plt.show()"
   ]
  },
  {
   "cell_type": "code",
   "execution_count": 14,
   "id": "bd2ab32e",
   "metadata": {},
   "outputs": [
    {
     "name": "stdout",
     "output_type": "stream",
     "text": [
      "Slope: 1.1069194477069237\n",
      "Intercept: 1.0750185982491374\n"
     ]
    }
   ],
   "source": [
    "# Print the slope (coefficient) and intercept of the line\n",
    "print(\"Slope:\", slope)\n",
    "print(\"Intercept:\", intercept)"
   ]
  },
  {
   "cell_type": "code",
   "execution_count": 19,
   "id": "0039a982",
   "metadata": {},
   "outputs": [
    {
     "name": "stdout",
     "output_type": "stream",
     "text": [
      "Manual MSE: 0.020113591737330856\n",
      "Manual MAE: 0.12192316735675109\n",
      "Manual RMSE: 0.14182239504863417\n",
      "R-squared: 0.9917567246978152\n",
      "Adjusted R-squared: 0.9890089662637536\n"
     ]
    }
   ],
   "source": [
    "# Print manual loss values\n",
    "print(\"Manual MSE:\", manual_mse)\n",
    "print(\"Manual MAE:\", manual_mae)\n",
    "print(\"Manual RMSE:\", manual_rmse)\n",
    "\n",
    "# Print R-squared and adjusted R-squared\n",
    "print(\"R-squared:\", R_squared)\n",
    "print(\"Adjusted R-squared:\", adjusted_R_squared)"
   ]
  },
  {
   "cell_type": "markdown",
   "id": "61421292",
   "metadata": {},
   "source": [
    "## IMPLEMENTATION OF LINEAR REGRESSION USING SCIKIT-LEARN LIBRARY"
   ]
  },
  {
   "cell_type": "code",
   "execution_count": 21,
   "id": "38b18c76",
   "metadata": {},
   "outputs": [],
   "source": [
    "import numpy as np\n",
    "import matplotlib.pyplot as plt\n",
    "\n",
    "# Modules from sklearn\n",
    "from sklearn.linear_model import LinearRegression\n",
    "from sklearn.metrics import mean_squared_error, mean_absolute_error,r2_score"
   ]
  },
  {
   "cell_type": "code",
   "execution_count": 22,
   "id": "e20b1142",
   "metadata": {},
   "outputs": [],
   "source": [
    "# Sample data\n",
    "X = np.array([1, 2, 3, 4, 5]).reshape(-1, 1)  # Independent variable (feature)\n",
    "y = np.array([2, 3.5, 4.5, 5.5, 6.5])       # Dependent variable (target)"
   ]
  },
  {
   "cell_type": "code",
   "execution_count": 23,
   "id": "aecbf95b",
   "metadata": {},
   "outputs": [],
   "source": [
    "# Create a linear regression model\n",
    "model = LinearRegression()"
   ]
  },
  {
   "cell_type": "code",
   "execution_count": 24,
   "id": "81e6cf8f",
   "metadata": {},
   "outputs": [
    {
     "data": {
      "text/html": [
       "<style>#sk-container-id-1 {color: black;background-color: white;}#sk-container-id-1 pre{padding: 0;}#sk-container-id-1 div.sk-toggleable {background-color: white;}#sk-container-id-1 label.sk-toggleable__label {cursor: pointer;display: block;width: 100%;margin-bottom: 0;padding: 0.3em;box-sizing: border-box;text-align: center;}#sk-container-id-1 label.sk-toggleable__label-arrow:before {content: \"▸\";float: left;margin-right: 0.25em;color: #696969;}#sk-container-id-1 label.sk-toggleable__label-arrow:hover:before {color: black;}#sk-container-id-1 div.sk-estimator:hover label.sk-toggleable__label-arrow:before {color: black;}#sk-container-id-1 div.sk-toggleable__content {max-height: 0;max-width: 0;overflow: hidden;text-align: left;background-color: #f0f8ff;}#sk-container-id-1 div.sk-toggleable__content pre {margin: 0.2em;color: black;border-radius: 0.25em;background-color: #f0f8ff;}#sk-container-id-1 input.sk-toggleable__control:checked~div.sk-toggleable__content {max-height: 200px;max-width: 100%;overflow: auto;}#sk-container-id-1 input.sk-toggleable__control:checked~label.sk-toggleable__label-arrow:before {content: \"▾\";}#sk-container-id-1 div.sk-estimator input.sk-toggleable__control:checked~label.sk-toggleable__label {background-color: #d4ebff;}#sk-container-id-1 div.sk-label input.sk-toggleable__control:checked~label.sk-toggleable__label {background-color: #d4ebff;}#sk-container-id-1 input.sk-hidden--visually {border: 0;clip: rect(1px 1px 1px 1px);clip: rect(1px, 1px, 1px, 1px);height: 1px;margin: -1px;overflow: hidden;padding: 0;position: absolute;width: 1px;}#sk-container-id-1 div.sk-estimator {font-family: monospace;background-color: #f0f8ff;border: 1px dotted black;border-radius: 0.25em;box-sizing: border-box;margin-bottom: 0.5em;}#sk-container-id-1 div.sk-estimator:hover {background-color: #d4ebff;}#sk-container-id-1 div.sk-parallel-item::after {content: \"\";width: 100%;border-bottom: 1px solid gray;flex-grow: 1;}#sk-container-id-1 div.sk-label:hover label.sk-toggleable__label {background-color: #d4ebff;}#sk-container-id-1 div.sk-serial::before {content: \"\";position: absolute;border-left: 1px solid gray;box-sizing: border-box;top: 0;bottom: 0;left: 50%;z-index: 0;}#sk-container-id-1 div.sk-serial {display: flex;flex-direction: column;align-items: center;background-color: white;padding-right: 0.2em;padding-left: 0.2em;position: relative;}#sk-container-id-1 div.sk-item {position: relative;z-index: 1;}#sk-container-id-1 div.sk-parallel {display: flex;align-items: stretch;justify-content: center;background-color: white;position: relative;}#sk-container-id-1 div.sk-item::before, #sk-container-id-1 div.sk-parallel-item::before {content: \"\";position: absolute;border-left: 1px solid gray;box-sizing: border-box;top: 0;bottom: 0;left: 50%;z-index: -1;}#sk-container-id-1 div.sk-parallel-item {display: flex;flex-direction: column;z-index: 1;position: relative;background-color: white;}#sk-container-id-1 div.sk-parallel-item:first-child::after {align-self: flex-end;width: 50%;}#sk-container-id-1 div.sk-parallel-item:last-child::after {align-self: flex-start;width: 50%;}#sk-container-id-1 div.sk-parallel-item:only-child::after {width: 0;}#sk-container-id-1 div.sk-dashed-wrapped {border: 1px dashed gray;margin: 0 0.4em 0.5em 0.4em;box-sizing: border-box;padding-bottom: 0.4em;background-color: white;}#sk-container-id-1 div.sk-label label {font-family: monospace;font-weight: bold;display: inline-block;line-height: 1.2em;}#sk-container-id-1 div.sk-label-container {text-align: center;}#sk-container-id-1 div.sk-container {/* jupyter's `normalize.less` sets `[hidden] { display: none; }` but bootstrap.min.css set `[hidden] { display: none !important; }` so we also need the `!important` here to be able to override the default hidden behavior on the sphinx rendered scikit-learn.org. See: https://github.com/scikit-learn/scikit-learn/issues/21755 */display: inline-block !important;position: relative;}#sk-container-id-1 div.sk-text-repr-fallback {display: none;}</style><div id=\"sk-container-id-1\" class=\"sk-top-container\"><div class=\"sk-text-repr-fallback\"><pre>LinearRegression()</pre><b>In a Jupyter environment, please rerun this cell to show the HTML representation or trust the notebook. <br />On GitHub, the HTML representation is unable to render, please try loading this page with nbviewer.org.</b></div><div class=\"sk-container\" hidden><div class=\"sk-item\"><div class=\"sk-estimator sk-toggleable\"><input class=\"sk-toggleable__control sk-hidden--visually\" id=\"sk-estimator-id-1\" type=\"checkbox\" checked><label for=\"sk-estimator-id-1\" class=\"sk-toggleable__label sk-toggleable__label-arrow\">LinearRegression</label><div class=\"sk-toggleable__content\"><pre>LinearRegression()</pre></div></div></div></div></div>"
      ],
      "text/plain": [
       "LinearRegression()"
      ]
     },
     "execution_count": 24,
     "metadata": {},
     "output_type": "execute_result"
    }
   ],
   "source": [
    "# Fit the model to the data\n",
    "model.fit(X, y)"
   ]
  },
  {
   "cell_type": "code",
   "execution_count": 25,
   "id": "047de5bf",
   "metadata": {},
   "outputs": [],
   "source": [
    "# Make predictions\n",
    "y_pred = model.predict(X)"
   ]
  },
  {
   "cell_type": "code",
   "execution_count": 26,
   "id": "eb6b6c0e",
   "metadata": {},
   "outputs": [],
   "source": [
    "# Calculate metrics\n",
    "mse = mean_squared_error(y, y_pred)\n",
    "mae = mean_absolute_error(y, y_pred)\n",
    "rmse = np.sqrt(mse)\n",
    "\n",
    "# Calculate R-squared using scikit-learn\n",
    "r2 = r2_score(y, y_pred)\n",
    "\n",
    "# Manually calculate adjusted R-squared (as scikit learn library does not provide a direct method to calculate r2)\n",
    "N = len(y)\n",
    "P = 1  # Number of parameters (slope and intercept)\n",
    "adjusted_r2 = 1 - (1 - r2) * (N - 1) / (N - P - 1)"
   ]
  },
  {
   "cell_type": "code",
   "execution_count": 27,
   "id": "bad144a6",
   "metadata": {},
   "outputs": [
    {
     "data": {
      "image/png": "[encoded data removed]",
      "text/plain": [
       "<Figure size 640x480 with 1 Axes>"
      ]
     },
     "metadata": {},
     "output_type": "display_data"
    }
   ],
   "source": [
    "# Plot the data and the linear regression line\n",
    "plt.scatter(X, y, label='Actual data')\n",
    "plt.plot(X, y_pred, color='red', label='Linear regression line')\n",
    "plt.xlabel('X')\n",
    "plt.ylabel('y')\n",
    "plt.title('Linear Regression with scikit-learn')\n",
    "plt.legend()\n",
    "plt.show()"
   ]
  },
  {
   "cell_type": "code",
   "execution_count": 28,
   "id": "1bf75f92",
   "metadata": {},
   "outputs": [
    {
     "name": "stdout",
     "output_type": "stream",
     "text": [
      "Slope: 1.1000000000000005\n",
      "Intercept: 1.0999999999999988\n"
     ]
    }
   ],
   "source": [
    "# Print the slope (coefficient) and intercept of the line\n",
    "print(\"Slope:\", model.coef_[0])\n",
    "print(\"Intercept:\", model.intercept_)"
   ]
  },
  {
   "cell_type": "code",
   "execution_count": 29,
   "id": "688f228c",
   "metadata": {},
   "outputs": [
    {
     "name": "stdout",
     "output_type": "stream",
     "text": [
      "Mean Squared Error: 0.02\n",
      "Mean Absolute Error: 0.12000000000000029\n",
      "Root Mean Squared Error: 0.1414213562373095\n",
      "R-squared: 0.9918032786885246\n",
      "Adjusted R-squared: 0.9890710382513661\n"
     ]
    }
   ],
   "source": [
    "# Print metrics\n",
    "print(\"Mean Squared Error:\", mse)\n",
    "print(\"Mean Absolute Error:\", mae)\n",
    "print(\"Root Mean Squared Error:\", rmse)\n",
    "\n",
    "# Print R-squared and adjusted R-squared\n",
    "print(\"R-squared:\", r2)\n",
    "print(\"Adjusted R-squared:\", adjusted_r2)\n"
   ]
  },
  {
   "cell_type": "markdown",
   "id": "14b6d2d6",
   "metadata": {},
   "source": [
    "## REGULARIZATION"
   ]
  },
  {
   "cell_type": "markdown",
   "id": "51a7730e",
   "metadata": {},
   "source": [
    "* **OLS** : Ordinary Least Squares is to find the values of the slope (beta_1) and intercept (beta_0) that minimize the sum of squared differences between the predicted values and the actual target values in the training data.\n",
    "<img src=\"Images/OLSgraph.png\" style=\"width:300px; height:250px;\">\n",
    "* In this graph the center point represents the value for beta_0 and beta_1 for which the sum of squared difference(cost function) is minimised.\n",
    "* The sum of squared difference is represented as contours(these are higher dimensional plots represented in 2D). Each and every concentric circle are represented as the same level. Thus the center represents the local minima.\n",
    "* Disadavantage: When there are few weights(beta_1,beta_2,...) which are large, they tend to affect and overfit the model.\n",
    "* We overcome this by **Regularization** which is a technique in machine learning that adds constraints or penalties to the model's training process to prevent overfitting and improve generalization on new, unseen data.\n",
    "* **Overfitting** : Low bias High variance.\n",
    "* **Underfitting** : High bias High Variance.\n",
    "* Where **Variance** (test error) is the variation in results of unseen data, where as **bias** (train error) is the error due to the absence of true underlying pattern of the problem in the model."
   ]
  },
  {
   "cell_type": "markdown",
   "id": "e95e97d5",
   "metadata": {},
   "source": [
    "## LASSO REGRESSION"
   ]
  },
  {
   "cell_type": "markdown",
   "id": "4e7b0e1d",
   "metadata": {},
   "source": [
    "* **Lasso Regression** : (Least Absolute Shrinkage and Selection Operator) Lasso regression is a type of linear regression with L1 regularization, adding a penalty term based on the absolute values of the coefficients to the linear regression cost function, encouraging some coefficients to become exactly zero and performing feature selection.\n",
    "<img src=\"Images/LassoFormula.png\" style=\"width:300px; height:70px;\">\n",
    "* here the absolute of beta corresponds to  \n",
    "<img src=\"Images/L1Formula.png\" style=\"width:300px; height:50px;\">\n",
    "* when we plot a graph for beta_1+beta_2 we get a diamond graph as given below.\n",
    "<img src=\"Images/LassoGraph.png\" style=\"width:300px; height:250px;\">\n",
    "* The main aim over here is to determine the penalised weights i.e. the lasso coefficients to avoid overfitting. The value of the weights as per the equation of the weight(absolute beta) is not allowed to move outside the edges of the daimond. Here the value corresponding to the point marked as Lasso will determine the beta_1 and beta_2 weights(slope) of the equation rather than the local minima in the OLS."
   ]
  },
  {
   "cell_type": "code",
   "execution_count": 10,
   "id": "a4b7cfba",
   "metadata": {},
   "outputs": [],
   "source": [
    "import numpy as np\n",
    "from sklearn.linear_model import Lasso\n",
    "from sklearn.metrics import mean_squared_error, mean_absolute_error, r2_score\n",
    "import matplotlib.pyplot as plt"
   ]
  },
  {
   "cell_type": "code",
   "execution_count": 11,
   "id": "17c0baae",
   "metadata": {},
   "outputs": [],
   "source": [
    "# Sample data\n",
    "X = np.array([1, 2, 3, 4, 5]).reshape(-1, 1)  # Independent variable (feature)\n",
    "y = np.array([2, 3.5, 4.5, 5.5, 6.5])       # Dependent variable (target)"
   ]
  },
  {
   "cell_type": "code",
   "execution_count": 12,
   "id": "36f71ce4",
   "metadata": {},
   "outputs": [],
   "source": [
    "# Create a Lasso regression model\n",
    "alpha = 0.1  # Regularization strength (adjust this value)\n",
    "model = Lasso(alpha=alpha)"
   ]
  },
  {
   "cell_type": "code",
   "execution_count": 13,
   "id": "ba20016f",
   "metadata": {},
   "outputs": [
    {
     "data": {
      "text/html": [
       "<style>#sk-container-id-1 {color: black;background-color: white;}#sk-container-id-1 pre{padding: 0;}#sk-container-id-1 div.sk-toggleable {background-color: white;}#sk-container-id-1 label.sk-toggleable__label {cursor: pointer;display: block;width: 100%;margin-bottom: 0;padding: 0.3em;box-sizing: border-box;text-align: center;}#sk-container-id-1 label.sk-toggleable__label-arrow:before {content: \"▸\";float: left;margin-right: 0.25em;color: #696969;}#sk-container-id-1 label.sk-toggleable__label-arrow:hover:before {color: black;}#sk-container-id-1 div.sk-estimator:hover label.sk-toggleable__label-arrow:before {color: black;}#sk-container-id-1 div.sk-toggleable__content {max-height: 0;max-width: 0;overflow: hidden;text-align: left;background-color: #f0f8ff;}#sk-container-id-1 div.sk-toggleable__content pre {margin: 0.2em;color: black;border-radius: 0.25em;background-color: #f0f8ff;}#sk-container-id-1 input.sk-toggleable__control:checked~div.sk-toggleable__content {max-height: 200px;max-width: 100%;overflow: auto;}#sk-container-id-1 input.sk-toggleable__control:checked~label.sk-toggleable__label-arrow:before {content: \"▾\";}#sk-container-id-1 div.sk-estimator input.sk-toggleable__control:checked~label.sk-toggleable__label {background-color: #d4ebff;}#sk-container-id-1 div.sk-label input.sk-toggleable__control:checked~label.sk-toggleable__label {background-color: #d4ebff;}#sk-container-id-1 input.sk-hidden--visually {border: 0;clip: rect(1px 1px 1px 1px);clip: rect(1px, 1px, 1px, 1px);height: 1px;margin: -1px;overflow: hidden;padding: 0;position: absolute;width: 1px;}#sk-container-id-1 div.sk-estimator {font-family: monospace;background-color: #f0f8ff;border: 1px dotted black;border-radius: 0.25em;box-sizing: border-box;margin-bottom: 0.5em;}#sk-container-id-1 div.sk-estimator:hover {background-color: #d4ebff;}#sk-container-id-1 div.sk-parallel-item::after {content: \"\";width: 100%;border-bottom: 1px solid gray;flex-grow: 1;}#sk-container-id-1 div.sk-label:hover label.sk-toggleable__label {background-color: #d4ebff;}#sk-container-id-1 div.sk-serial::before {content: \"\";position: absolute;border-left: 1px solid gray;box-sizing: border-box;top: 0;bottom: 0;left: 50%;z-index: 0;}#sk-container-id-1 div.sk-serial {display: flex;flex-direction: column;align-items: center;background-color: white;padding-right: 0.2em;padding-left: 0.2em;position: relative;}#sk-container-id-1 div.sk-item {position: relative;z-index: 1;}#sk-container-id-1 div.sk-parallel {display: flex;align-items: stretch;justify-content: center;background-color: white;position: relative;}#sk-container-id-1 div.sk-item::before, #sk-container-id-1 div.sk-parallel-item::before {content: \"\";position: absolute;border-left: 1px solid gray;box-sizing: border-box;top: 0;bottom: 0;left: 50%;z-index: -1;}#sk-container-id-1 div.sk-parallel-item {display: flex;flex-direction: column;z-index: 1;position: relative;background-color: white;}#sk-container-id-1 div.sk-parallel-item:first-child::after {align-self: flex-end;width: 50%;}#sk-container-id-1 div.sk-parallel-item:last-child::after {align-self: flex-start;width: 50%;}#sk-container-id-1 div.sk-parallel-item:only-child::after {width: 0;}#sk-container-id-1 div.sk-dashed-wrapped {border: 1px dashed gray;margin: 0 0.4em 0.5em 0.4em;box-sizing: border-box;padding-bottom: 0.4em;background-color: white;}#sk-container-id-1 div.sk-label label {font-family: monospace;font-weight: bold;display: inline-block;line-height: 1.2em;}#sk-container-id-1 div.sk-label-container {text-align: center;}#sk-container-id-1 div.sk-container {/* jupyter's `normalize.less` sets `[hidden] { display: none; }` but bootstrap.min.css set `[hidden] { display: none !important; }` so we also need the `!important` here to be able to override the default hidden behavior on the sphinx rendered scikit-learn.org. See: https://github.com/scikit-learn/scikit-learn/issues/21755 */display: inline-block !important;position: relative;}#sk-container-id-1 div.sk-text-repr-fallback {display: none;}</style><div id=\"sk-container-id-1\" class=\"sk-top-container\"><div class=\"sk-text-repr-fallback\"><pre>Lasso(alpha=0.1)</pre><b>In a Jupyter environment, please rerun this cell to show the HTML representation or trust the notebook. <br />On GitHub, the HTML representation is unable to render, please try loading this page with nbviewer.org.</b></div><div class=\"sk-container\" hidden><div class=\"sk-item\"><div class=\"sk-estimator sk-toggleable\"><input class=\"sk-toggleable__control sk-hidden--visually\" id=\"sk-estimator-id-1\" type=\"checkbox\" checked><label for=\"sk-estimator-id-1\" class=\"sk-toggleable__label sk-toggleable__label-arrow\">Lasso</label><div class=\"sk-toggleable__content\"><pre>Lasso(alpha=0.1)</pre></div></div></div></div></div>"
      ],
      "text/plain": [
       "Lasso(alpha=0.1)"
      ]
     },
     "execution_count": 13,
     "metadata": {},
     "output_type": "execute_result"
    }
   ],
   "source": [
    "# Fit the model to the data\n",
    "model.fit(X, y)"
   ]
  },
  {
   "cell_type": "code",
   "execution_count": 14,
   "id": "c9be6b80",
   "metadata": {},
   "outputs": [],
   "source": [
    "# Make predictions\n",
    "y_pred = model.predict(X)"
   ]
  },
  {
   "cell_type": "code",
   "execution_count": 15,
   "id": "c2d954a8",
   "metadata": {},
   "outputs": [],
   "source": [
    "# Calculate metrics\n",
    "mse = mean_squared_error(y, y_pred)\n",
    "mae = mean_absolute_error(y, y_pred)\n",
    "rmse = np.sqrt(mse)"
   ]
  },
  {
   "cell_type": "code",
   "execution_count": 16,
   "id": "97258750",
   "metadata": {},
   "outputs": [],
   "source": [
    "# Calculate R-squared using scikit-learn\n",
    "r2 = r2_score(y, y_pred)\n",
    "\n",
    "# Manually calculate adjusted R-squared\n",
    "N = len(y)\n",
    "P = 2  # Number of parameters (slope and intercept)\n",
    "adjusted_r2 = 1 - (1 - r2) * (N - 1) / (N - P - 1)"
   ]
  },
  {
   "cell_type": "code",
   "execution_count": 17,
   "id": "e3c3ad39",
   "metadata": {},
   "outputs": [
    {
     "data": {
      "image/png": "[encoded data removed]",
      "text/plain": [
       "<Figure size 640x480 with 1 Axes>"
      ]
     },
     "metadata": {},
     "output_type": "display_data"
    }
   ],
   "source": [
    "# Plot the data and the Lasso regression line\n",
    "plt.scatter(X, y, label='Actual data')\n",
    "plt.plot(X, y_pred, color='red', label='Lasso regression line')\n",
    "plt.xlabel('X')\n",
    "plt.ylabel('y')\n",
    "plt.title('Lasso Regression with Metrics')\n",
    "plt.legend()\n",
    "plt.show()"
   ]
  },
  {
   "cell_type": "code",
   "execution_count": 18,
   "id": "6ca80177",
   "metadata": {},
   "outputs": [
    {
     "name": "stdout",
     "output_type": "stream",
     "text": [
      "Coefficients: [1.05]\n",
      "Intercept: 1.25\n"
     ]
    }
   ],
   "source": [
    "# Print the coefficients (including possible zero coefficients due to L1 regularization)\n",
    "print(\"Coefficients:\", model.coef_)\n",
    "print(\"Intercept:\", model.intercept_)"
   ]
  },
  {
   "cell_type": "code",
   "execution_count": 19,
   "id": "7bbf5b10",
   "metadata": {},
   "outputs": [
    {
     "name": "stdout",
     "output_type": "stream",
     "text": [
      "Mean Squared Error: 0.02499999999999996\n",
      "Mean Absolute Error: 0.11999999999999984\n",
      "Root Mean Squared Error: 0.15811388300841883\n",
      "R-squared: 0.9897540983606558\n",
      "Adjusted R-squared: 0.9795081967213115\n"
     ]
    }
   ],
   "source": [
    "# Print metrics\n",
    "print(\"Mean Squared Error:\", mse)\n",
    "print(\"Mean Absolute Error:\", mae)\n",
    "print(\"Root Mean Squared Error:\", rmse)\n",
    "\n",
    "# Print R-squared and adjusted R-squared\n",
    "print(\"R-squared:\", r2)\n",
    "print(\"Adjusted R-squared:\", adjusted_r2)"
   ]
  },
  {
   "cell_type": "markdown",
   "id": "73bd99ca",
   "metadata": {},
   "source": [
    "* As we can see the accuracy of linear regression is greater than lasso regression as we are generalising the model and penalising it to avoid overfitting. In the case of Linear regression due to overfitting the best fit line would have passed through the points resulting in greater accuracy but in lasso regression we penalise the best fit line to avoid overfitting."
   ]
  },
  {
   "cell_type": "markdown",
   "id": "e0d7135b",
   "metadata": {},
   "source": [
    "## RIDGE REGRESSION"
   ]
  },
  {
   "cell_type": "markdown",
   "id": "4d13521d",
   "metadata": {},
   "source": [
    "* **Ridge Regression** : Ridge regression is a type of linear regression that includes L2 regularization, adding a penalty term based on the square of the coefficients to the linear regression cost function. This regularization technique helps control the complexity of the model, prevents overfitting, and reduces the impact of multicollinearity among the independent variables. (Ridge in general terms means maximum or peak)\n",
    "<img src=\"Images/RidgeFormula.png\" style=\"width:300px; height:70px;\">\n",
    "* here the squared beta corresponds to  \n",
    "<img src=\"Images/L2Formula.png\" style=\"width:300px; height:50px;\">\n",
    "* when we plot a graph for beta_1^2 +beta_2^2 we get a circle graph as given below.\n",
    "<img src=\"Images/RidgeGraph.png\" style=\"width:300px; height:250px;\">\n",
    "* The main aim over here is to determine the penalised weights i.e. the ridge coefficients to avoid overfitting. The value of the weights as per the equation of the weight(sqaured beta) is not allowed to move outside the perimeter of the circle. Here the value corresponding to the point marked as ridge will determine the beta_1 and beta_2 weights(slope) of the equation rather than the local minima in the OLS.\n",
    "\n",
    "* The main difference between ridge and lasso is that, in lasso we can do feature selection as coefficents become zero. Previously the lasso coefficient was (beta_1,0). Whereas in Ridge the values are close to zero and does not become zero.\n",
    "\n",
    "* As, we can continue by raising the penality term to higher orders(to the power of 3 , 4, etc.) to overcome overfitting. (i.e beta^3 , beta^4 .. can be added to form L3 L4 regularisation.)"
   ]
  },
  {
   "cell_type": "code",
   "execution_count": 20,
   "id": "2d136afc",
   "metadata": {},
   "outputs": [],
   "source": [
    "import numpy as np\n",
    "from sklearn.linear_model import Ridge\n",
    "from sklearn.metrics import mean_squared_error, mean_absolute_error, r2_score\n",
    "import matplotlib.pyplot as plt"
   ]
  },
  {
   "cell_type": "code",
   "execution_count": 21,
   "id": "958f03d2",
   "metadata": {},
   "outputs": [],
   "source": [
    "#Sample data\n",
    "X = np.array([1, 2, 3, 4, 5]).reshape(-1, 1)  # Independent variable (feature)\n",
    "y = np.array([2, 3.5, 4.5, 5.5, 6.5])         # Dependent variable (target)"
   ]
  },
  {
   "cell_type": "code",
   "execution_count": 22,
   "id": "26fcde1b",
   "metadata": {},
   "outputs": [],
   "source": [
    "# Regularization strength (alpha parameter)\n",
    "alpha = 1.0"
   ]
  },
  {
   "cell_type": "code",
   "execution_count": 23,
   "id": "ac78c10d",
   "metadata": {},
   "outputs": [],
   "source": [
    "# Create a Ridge regression model\n",
    "model = Ridge(alpha=alpha)"
   ]
  },
  {
   "cell_type": "code",
   "execution_count": 24,
   "id": "966ef643",
   "metadata": {},
   "outputs": [
    {
     "data": {
      "text/html": [
       "<style>#sk-container-id-2 {color: black;background-color: white;}#sk-container-id-2 pre{padding: 0;}#sk-container-id-2 div.sk-toggleable {background-color: white;}#sk-container-id-2 label.sk-toggleable__label {cursor: pointer;display: block;width: 100%;margin-bottom: 0;padding: 0.3em;box-sizing: border-box;text-align: center;}#sk-container-id-2 label.sk-toggleable__label-arrow:before {content: \"▸\";float: left;margin-right: 0.25em;color: #696969;}#sk-container-id-2 label.sk-toggleable__label-arrow:hover:before {color: black;}#sk-container-id-2 div.sk-estimator:hover label.sk-toggleable__label-arrow:before {color: black;}#sk-container-id-2 div.sk-toggleable__content {max-height: 0;max-width: 0;overflow: hidden;text-align: left;background-color: #f0f8ff;}#sk-container-id-2 div.sk-toggleable__content pre {margin: 0.2em;color: black;border-radius: 0.25em;background-color: #f0f8ff;}#sk-container-id-2 input.sk-toggleable__control:checked~div.sk-toggleable__content {max-height: 200px;max-width: 100%;overflow: auto;}#sk-container-id-2 input.sk-toggleable__control:checked~label.sk-toggleable__label-arrow:before {content: \"▾\";}#sk-container-id-2 div.sk-estimator input.sk-toggleable__control:checked~label.sk-toggleable__label {background-color: #d4ebff;}#sk-container-id-2 div.sk-label input.sk-toggleable__control:checked~label.sk-toggleable__label {background-color: #d4ebff;}#sk-container-id-2 input.sk-hidden--visually {border: 0;clip: rect(1px 1px 1px 1px);clip: rect(1px, 1px, 1px, 1px);height: 1px;margin: -1px;overflow: hidden;padding: 0;position: absolute;width: 1px;}#sk-container-id-2 div.sk-estimator {font-family: monospace;background-color: #f0f8ff;border: 1px dotted black;border-radius: 0.25em;box-sizing: border-box;margin-bottom: 0.5em;}#sk-container-id-2 div.sk-estimator:hover {background-color: #d4ebff;}#sk-container-id-2 div.sk-parallel-item::after {content: \"\";width: 100%;border-bottom: 1px solid gray;flex-grow: 1;}#sk-container-id-2 div.sk-label:hover label.sk-toggleable__label {background-color: #d4ebff;}#sk-container-id-2 div.sk-serial::before {content: \"\";position: absolute;border-left: 1px solid gray;box-sizing: border-box;top: 0;bottom: 0;left: 50%;z-index: 0;}#sk-container-id-2 div.sk-serial {display: flex;flex-direction: column;align-items: center;background-color: white;padding-right: 0.2em;padding-left: 0.2em;position: relative;}#sk-container-id-2 div.sk-item {position: relative;z-index: 1;}#sk-container-id-2 div.sk-parallel {display: flex;align-items: stretch;justify-content: center;background-color: white;position: relative;}#sk-container-id-2 div.sk-item::before, #sk-container-id-2 div.sk-parallel-item::before {content: \"\";position: absolute;border-left: 1px solid gray;box-sizing: border-box;top: 0;bottom: 0;left: 50%;z-index: -1;}#sk-container-id-2 div.sk-parallel-item {display: flex;flex-direction: column;z-index: 1;position: relative;background-color: white;}#sk-container-id-2 div.sk-parallel-item:first-child::after {align-self: flex-end;width: 50%;}#sk-container-id-2 div.sk-parallel-item:last-child::after {align-self: flex-start;width: 50%;}#sk-container-id-2 div.sk-parallel-item:only-child::after {width: 0;}#sk-container-id-2 div.sk-dashed-wrapped {border: 1px dashed gray;margin: 0 0.4em 0.5em 0.4em;box-sizing: border-box;padding-bottom: 0.4em;background-color: white;}#sk-container-id-2 div.sk-label label {font-family: monospace;font-weight: bold;display: inline-block;line-height: 1.2em;}#sk-container-id-2 div.sk-label-container {text-align: center;}#sk-container-id-2 div.sk-container {/* jupyter's `normalize.less` sets `[hidden] { display: none; }` but bootstrap.min.css set `[hidden] { display: none !important; }` so we also need the `!important` here to be able to override the default hidden behavior on the sphinx rendered scikit-learn.org. See: https://github.com/scikit-learn/scikit-learn/issues/21755 */display: inline-block !important;position: relative;}#sk-container-id-2 div.sk-text-repr-fallback {display: none;}</style><div id=\"sk-container-id-2\" class=\"sk-top-container\"><div class=\"sk-text-repr-fallback\"><pre>Ridge()</pre><b>In a Jupyter environment, please rerun this cell to show the HTML representation or trust the notebook. <br />On GitHub, the HTML representation is unable to render, please try loading this page with nbviewer.org.</b></div><div class=\"sk-container\" hidden><div class=\"sk-item\"><div class=\"sk-estimator sk-toggleable\"><input class=\"sk-toggleable__control sk-hidden--visually\" id=\"sk-estimator-id-2\" type=\"checkbox\" checked><label for=\"sk-estimator-id-2\" class=\"sk-toggleable__label sk-toggleable__label-arrow\">Ridge</label><div class=\"sk-toggleable__content\"><pre>Ridge()</pre></div></div></div></div></div>"
      ],
      "text/plain": [
       "Ridge()"
      ]
     },
     "execution_count": 24,
     "metadata": {},
     "output_type": "execute_result"
    }
   ],
   "source": [
    "# Fit the model to the data\n",
    "model.fit(X, y)"
   ]
  },
  {
   "cell_type": "code",
   "execution_count": 25,
   "id": "da80f3af",
   "metadata": {},
   "outputs": [],
   "source": [
    "# Make predictions\n",
    "y_pred = model.predict(X)"
   ]
  },
  {
   "cell_type": "code",
   "execution_count": 30,
   "id": "71225db9",
   "metadata": {},
   "outputs": [],
   "source": [
    "# Calculate metrics\n",
    "mse = mean_squared_error(y, y_pred)\n",
    "mae = mean_absolute_error(y, y_pred)\n",
    "rmse = np.sqrt(mse)\n",
    "\n",
    "# Calculate R-squared using scikit-learn\n",
    "r2 = r2_score(y, y_pred)\n",
    "\n",
    "# Manually calculate adjusted R-squared\n",
    "N = len(y)\n",
    "P = 2  # Number of parameters (slope and intercept)\n",
    "adjusted_r2 = 1 - (1 - r2) * (N - 1) / (N - P - 1)"
   ]
  },
  {
   "cell_type": "code",
   "execution_count": 27,
   "id": "8e0f3527",
   "metadata": {},
   "outputs": [
    {
     "data": {
      "image/png": "[encoded data removed]",
      "text/plain": [
       "<Figure size 640x480 with 1 Axes>"
      ]
     },
     "metadata": {},
     "output_type": "display_data"
    }
   ],
   "source": [
    "# Plot the data and the Ridge regression line\n",
    "plt.scatter(X, y, label='Actual data')\n",
    "plt.plot(X, y_pred, color='red', label='Ridge regression line')\n",
    "plt.xlabel('X')\n",
    "plt.ylabel('y')\n",
    "plt.title('Ridge Regression with Metrics')\n",
    "plt.legend()\n",
    "plt.show()"
   ]
  },
  {
   "cell_type": "code",
   "execution_count": 28,
   "id": "959d74de",
   "metadata": {},
   "outputs": [
    {
     "name": "stdout",
     "output_type": "stream",
     "text": [
      "Slope (Coefficient): 1.0\n",
      "Intercept: 1.4000000000000004\n"
     ]
    }
   ],
   "source": [
    "# Print the coefficients\n",
    "print(\"Slope (Coefficient):\", model.coef_[0])\n",
    "print(\"Intercept:\", model.intercept_)"
   ]
  },
  {
   "cell_type": "code",
   "execution_count": 31,
   "id": "c33ee9be",
   "metadata": {},
   "outputs": [
    {
     "name": "stdout",
     "output_type": "stream",
     "text": [
      "Mean Squared Error: 0.039999999999999994\n",
      "Mean Absolute Error: 0.15999999999999978\n",
      "Root Mean Squared Error: 0.19999999999999998\n",
      "R-squared: 0.9836065573770492\n",
      "Adjusted R-squared: 0.9672131147540983\n"
     ]
    }
   ],
   "source": [
    "# Print metrics\n",
    "print(\"Mean Squared Error:\", mse)\n",
    "print(\"Mean Absolute Error:\", mae)\n",
    "print(\"Root Mean Squared Error:\", rmse)\n",
    "\n",
    "# Print R-squared and adjusted R-squared\n",
    "print(\"R-squared:\", r2)\n",
    "print(\"Adjusted R-squared:\", adjusted_r2)"
   ]
  },
  {
   "cell_type": "markdown",
   "id": "f8b27c84",
   "metadata": {},
   "source": [
    "## HUBER REGRESSION "
   ]
  },
  {
   "cell_type": "markdown",
   "id": "2e77ec51",
   "metadata": {},
   "source": [
    "* Huber regression is a robust regression technique that combines elements of both the least squares (L2) loss and the absolute error (L1) loss, allowing the model to be less sensitive to outliers in the data while still providing a smooth loss function for the majority of the data points.\n",
    "* **Huber Loss / Smoothed L1 Loss** : \n",
    "     * Combination of both MSE and MAE.\n",
    "     <img src=\"Images/HuberLoss.png\" style=\"width:300px; height:100px;\" >\n",
    "     * Hyper parameter is a threshold for transition from quadratic (MSE) to Linear (MAE) Loss.\n",
    "     * When greater than the threshold it might be an outlier thus we compute MAE for those instances.\n",
    "     * Thus we get only one global minima for most of the instances and when the (y-y') value is greater than the thredhold we get multiple local minima."
   ]
  },
  {
   "cell_type": "code",
   "execution_count": 11,
   "id": "c88a682e",
   "metadata": {},
   "outputs": [
    {
     "data": {
      "image/png": "[encoded data removed]",
      "text/plain": [
       "<Figure size 640x480 with 1 Axes>"
      ]
     },
     "metadata": {},
     "output_type": "display_data"
    },
    {
     "name": "stdout",
     "output_type": "stream",
     "text": [
      "Total Huber Loss: 0.12166575255082296\n",
      "\n",
      "Mean Squared Error: 0.048666301020329185\n",
      "Mean Absolute Error: 0.10055553847749525\n",
      "Root Mean Squared Error: 0.2206043993675765\n"
     ]
    }
   ],
   "source": [
    "import numpy as np\n",
    "from sklearn.linear_model import HuberRegressor\n",
    "import matplotlib.pyplot as plt\n",
    "from sklearn.metrics import mean_squared_error, mean_absolute_error,r2_score\n",
    "\n",
    "# Sample data\n",
    "X = np.array([1, 2, 3, 4, 5]).reshape(-1, 1)  # Independent variable (feature)\n",
    "y = np.array([2, 3.5, 4.5, 5.5, 6.5])       # Dependent variable (target)\n",
    "\n",
    "# Create a HuberRegressor model\n",
    "huber_model = HuberRegressor()\n",
    "\n",
    "# Fit the model to the data\n",
    "huber_model.fit(X, y)\n",
    "\n",
    "# Make predictions\n",
    "y_huber_pred = huber_model.predict(X)\n",
    "\n",
    "# Calculate Huber Loss manually\n",
    "# huber_delta represents the threshold value above which we caluculate MAE or L1 loss\n",
    "huber_delta = huber_model.epsilon\n",
    "huber_loss = np.where(np.abs(y - y_huber_pred) < huber_delta, \n",
    "                      0.5 * (y - y_huber_pred) ** 2, \n",
    "                      huber_delta * np.abs(y - y_huber_pred) - 0.5 * huber_delta ** 2)\n",
    "total_huber_loss = np.sum(huber_loss)\n",
    "\n",
    "# Plot the data and the Huber regression line\n",
    "plt.scatter(X, y, label='Actual data')\n",
    "plt.plot(X, y_huber_pred, color='green', label='Huber regression line')\n",
    "plt.plot(X, y_pred, color='green', label='Huber regression line')\n",
    "plt.xlabel('X')\n",
    "plt.ylabel('y')\n",
    "plt.title('Huber Regression')\n",
    "plt.legend()\n",
    "plt.show()\n",
    "\n",
    "# Print the Huber Loss\n",
    "print(\"Total Huber Loss:\", total_huber_loss)\n",
    " \n",
    "# Calculate other metrics\n",
    "mse = mean_squared_error(y, y_huber_pred)\n",
    "mae = mean_absolute_error(y, y_huber_pred)\n",
    "rmse = np.sqrt(mse)\n",
    "\n",
    "# Print the metrics\n",
    "print(\"\\nMean Squared Error:\", mse)\n",
    "print(\"Mean Absolute Error:\", mae)\n",
    "print(\"Root Mean Squared Error:\", rmse)\n"
   ]
  },
  {
   "cell_type": "markdown",
   "id": "023f6374",
   "metadata": {},
   "source": [
    "As we can see the prediction is even more accurate while using HuberRegression"
   ]
  },
  {
   "cell_type": "markdown",
   "id": "68d1dba8",
   "metadata": {},
   "source": [
    "## MULTI-COLINEARITY"
   ]
  },
  {
   "cell_type": "markdown",
   "id": "e9b459f0",
   "metadata": {},
   "source": [
    "* Mulitple Linear regression is the prediction of a dependent varaible from two or more independent varaibles.\n",
    "<img src=\"Images/MultipleLinearRegression.png\" style=\"width:400px; height:100px;\" >\n",
    "* Multicollinearity is a statistical phenomenon in multiple linear regression where two or more independent variables are highly correlated, making it challenging to determine the individual effect of each variable on the dependent variable.\n",
    "* In the below example age and years of experience is highly correlated to each other."
   ]
  },
  {
   "cell_type": "code",
   "execution_count": 8,
   "id": "828b724e",
   "metadata": {},
   "outputs": [],
   "source": [
    "import numpy as np\n",
    "import pandas as pd\n",
    "import statsmodels.api as sm"
   ]
  },
  {
   "cell_type": "code",
   "execution_count": 9,
   "id": "7c22e5e6",
   "metadata": {},
   "outputs": [],
   "source": [
    "# Sample data\n",
    "data = pd.DataFrame({\n",
    "    'Age': [21.0,21.5,21.7,22.0,22.2],\n",
    "    'YearsOfExperience': [1, 1.3, 1.5,2.0,2.2],\n",
    "    'Salary': [50000, 60000, 75000, 85000, 95000][::-1]\n",
    "})"
   ]
  },
  {
   "cell_type": "code",
   "execution_count": 10,
   "id": "ad84e7cd",
   "metadata": {},
   "outputs": [],
   "source": [
    "# Adding a constant column for the intercept\n",
    "X = sm.add_constant(data[['Age', 'YearsOfExperience']])\n",
    "y = data['Salary']"
   ]
  },
  {
   "cell_type": "code",
   "execution_count": 12,
   "id": "27c19d0c",
   "metadata": {},
   "outputs": [],
   "source": [
    "# Fit OLS model\n",
    "model = sm.OLS(y, X).fit()"
   ]
  },
  {
   "cell_type": "code",
   "execution_count": 13,
   "id": "8c109cad",
   "metadata": {},
   "outputs": [
    {
     "name": "stdout",
     "output_type": "stream",
     "text": [
      "                            OLS Regression Results                            \n",
      "==============================================================================\n",
      "Dep. Variable:                 Salary   R-squared:                       0.995\n",
      "Model:                            OLS   Adj. R-squared:                  0.989\n",
      "Method:                 Least Squares   F-statistic:                     186.7\n",
      "Date:                Sat, 12 Aug 2023   Prob (F-statistic):            0.00533\n",
      "Time:                        22:49:20   Log-Likelihood:                -42.505\n",
      "No. Observations:                   5   AIC:                             91.01\n",
      "Df Residuals:                       2   BIC:                             89.84\n",
      "Df Model:                           2                                         \n",
      "Covariance Type:            nonrobust                                         \n",
      "=====================================================================================\n",
      "                        coef    std err          t      P>|t|      [0.025      0.975]\n",
      "-------------------------------------------------------------------------------------\n",
      "const              1.994e+05   1.87e+05      1.067      0.398   -6.05e+05       1e+06\n",
      "Age               -3346.4567   9243.588     -0.362      0.752   -4.31e+04    3.64e+04\n",
      "YearsOfExperience -3.366e+04   8699.362     -3.869      0.061   -7.11e+04    3768.917\n",
      "==============================================================================\n",
      "Omnibus:                          nan   Durbin-Watson:                   3.482\n",
      "Prob(Omnibus):                    nan   Jarque-Bera (JB):                0.699\n",
      "Skew:                           0.274   Prob(JB):                        0.705\n",
      "Kurtosis:                       1.253   Cond. No.                     4.84e+03\n",
      "==============================================================================\n",
      "\n",
      "Notes:\n",
      "[1] Standard Errors assume that the covariance matrix of the errors is correctly specified.\n",
      "[2] The condition number is large, 4.84e+03. This might indicate that there are\n",
      "strong multicollinearity or other numerical problems.\n"
     ]
    },
    {
     "name": "stderr",
     "output_type": "stream",
     "text": [
      "/Users/anushruthikaezhilmaran/anaconda3/lib/python3.11/site-packages/statsmodels/stats/stattools.py:74: ValueWarning: omni_normtest is not valid with less than 8 observations; 5 samples were given.\n",
      "  warn(\"omni_normtest is not valid with less than 8 observations; %i \"\n"
     ]
    }
   ],
   "source": [
    "# Print model summary\n",
    "print(model.summary())"
   ]
  },
  {
   "cell_type": "markdown",
   "id": "59cc65b1",
   "metadata": {},
   "source": [
    "* As we could see the std err is very large indicating the presence of multicolinearity , we can check the p value for the independent variables. \n",
    "* Here the p value is lesser for years of experience than age. Thus omiting the age varaible could be a remedy to avoid multi colinearity."
   ]
  },
  {
   "cell_type": "code",
   "execution_count": 14,
   "id": "0b130511",
   "metadata": {},
   "outputs": [
    {
     "data": {
      "text/html": [
       "<div>\n",
       "<style scoped>\n",
       "    .dataframe tbody tr th:only-of-type {\n",
       "        vertical-align: middle;\n",
       "    }\n",
       "\n",
       "    .dataframe tbody tr th {\n",
       "        vertical-align: top;\n",
       "    }\n",
       "\n",
       "    .dataframe thead th {\n",
       "        text-align: right;\n",
       "    }\n",
       "</style>\n",
       "<table border=\"1\" class=\"dataframe\">\n",
       "  <thead>\n",
       "    <tr style=\"text-align: right;\">\n",
       "      <th></th>\n",
       "      <th>Age</th>\n",
       "      <th>YearsOfExperience</th>\n",
       "    </tr>\n",
       "  </thead>\n",
       "  <tbody>\n",
       "    <tr>\n",
       "      <th>Age</th>\n",
       "      <td>1.00000</td>\n",
       "      <td>0.97582</td>\n",
       "    </tr>\n",
       "    <tr>\n",
       "      <th>YearsOfExperience</th>\n",
       "      <td>0.97582</td>\n",
       "      <td>1.00000</td>\n",
       "    </tr>\n",
       "  </tbody>\n",
       "</table>\n",
       "</div>"
      ],
      "text/plain": [
       "                       Age  YearsOfExperience\n",
       "Age                1.00000            0.97582\n",
       "YearsOfExperience  0.97582            1.00000"
      ]
     },
     "execution_count": 14,
     "metadata": {},
     "output_type": "execute_result"
    }
   ],
   "source": [
    "X.iloc[:,1:].corr()"
   ]
  },
  {
   "cell_type": "markdown",
   "id": "17452e23",
   "metadata": {},
   "source": [
    "* Correlation is typically represented by a coefficient, such as the Pearson correlation coefficient, which ranges from -1 to +1, indicating the strength and direction of the linear relationship. Correlation is useful for understanding the degree of association between two variables, but it doesn't imply causation.\n",
    "\n",
    "* While the corr() function can help identify pairwise correlations between variables, it alone is not sufficient to determine collinearity in a regression model with multiple predictors. This is because collinearity involves the relationships among all the predictors in the model, not just pairwise correlations.\n",
    "\n",
    "* The **Variance Inflation Factor (VIF)** is a diagnostic tool used to detect multicollinearity in a regression model. VIF measures the degree of collinearity between each predictor and the other predictors in the model. Specifically, the VIF of a predictor quantifies how much the variance of the estimated regression coefficient is inflated due to collinearity with other predictors.\n",
    "\n",
    "* A high VIF value (typically greater than 5 or 10) suggests that a predictor is highly correlated with other predictors, indicating potential multicollinearity. Addressing multicollinearity, often through feature selection or regularization techniques (e.g., Ridge or Lasso regression), is important to improve the stability and interpretability of the regression model.\n",
    "\n",
    "<img src=\"Images/VIF.png\" style=\"width:300px; height:100px;\" >\n",
    "\n",
    "* R² is the coefficient of determination."
   ]
  },
  {
   "cell_type": "code",
   "execution_count": 2,
   "id": "71ba48a9",
   "metadata": {},
   "outputs": [],
   "source": [
    "import numpy as np\n",
    "import pandas as pd\n",
    "import statsmodels.api as sm\n",
    "from statsmodels.stats.outliers_influence import variance_inflation_factor"
   ]
  },
  {
   "cell_type": "code",
   "execution_count": 3,
   "id": "ef8e7386",
   "metadata": {},
   "outputs": [],
   "source": [
    "# Sample data with three independent variables\n",
    "data = pd.DataFrame({\n",
    "    'Age': [25, 30, 35, 40, 45, 50, 55, 60, 65, 70],\n",
    "    'YearsOfExperience': [2, 5, 8, 10, 12, 15, 18, 20, 22, 25],\n",
    "    'EducationYears': [12, 14, 16, 16, 18, 18, 20, 20, 22, 22],\n",
    "    'Income': [50000, 60000, 75000, 85000, 95000, 110000, 120000, 130000, 140000, 150000]\n",
    "})"
   ]
  },
  {
   "cell_type": "code",
   "execution_count": 4,
   "id": "6ee5947d",
   "metadata": {},
   "outputs": [],
   "source": [
    "# Adding a constant column for the intercept\n",
    "X = sm.add_constant(data[['Age', 'YearsOfExperience', 'EducationYears']])\n",
    "y = data['Income']"
   ]
  },
  {
   "cell_type": "code",
   "execution_count": 5,
   "id": "e67bcdd6",
   "metadata": {},
   "outputs": [],
   "source": [
    "# Fit OLS model\n",
    "model = sm.OLS(y, X).fit()"
   ]
  },
  {
   "cell_type": "code",
   "execution_count": 6,
   "id": "1ea8163c",
   "metadata": {},
   "outputs": [
    {
     "name": "stdout",
     "output_type": "stream",
     "text": [
      "                            OLS Regression Results                            \n",
      "==============================================================================\n",
      "Dep. Variable:                 Income   R-squared:                       0.998\n",
      "Model:                            OLS   Adj. R-squared:                  0.997\n",
      "Method:                 Least Squares   F-statistic:                     1170.\n",
      "Date:                Mon, 14 Aug 2023   Prob (F-statistic):           1.09e-08\n",
      "Time:                        02:16:33   Log-Likelihood:                -86.161\n",
      "No. Observations:                  10   AIC:                             180.3\n",
      "Df Residuals:                       6   BIC:                             181.5\n",
      "Df Model:                           3                                         \n",
      "Covariance Type:            nonrobust                                         \n",
      "=====================================================================================\n",
      "                        coef    std err          t      P>|t|      [0.025      0.975]\n",
      "-------------------------------------------------------------------------------------\n",
      "const              1.534e+04      2e+04      0.769      0.471   -3.35e+04    6.42e+04\n",
      "Age                1058.2524    782.107      1.353      0.225    -855.495    2972.000\n",
      "YearsOfExperience  2257.2816   1634.074      1.381      0.216   -1741.153    6255.716\n",
      "EducationYears      279.1262    954.523      0.292      0.780   -2056.508    2614.761\n",
      "==============================================================================\n",
      "Omnibus:                        1.821   Durbin-Watson:                   1.829\n",
      "Prob(Omnibus):                  0.402   Jarque-Bera (JB):                0.133\n",
      "Skew:                           0.163   Prob(JB):                        0.936\n",
      "Kurtosis:                       3.461   Cond. No.                     2.02e+03\n",
      "==============================================================================\n",
      "\n",
      "Notes:\n",
      "[1] Standard Errors assume that the covariance matrix of the errors is correctly specified.\n",
      "[2] The condition number is large, 2.02e+03. This might indicate that there are\n",
      "strong multicollinearity or other numerical problems.\n"
     ]
    },
    {
     "name": "stderr",
     "output_type": "stream",
     "text": [
      "/Users/anushruthikaezhilmaran/anaconda3/lib/python3.11/site-packages/scipy/stats/_stats_py.py:1736: UserWarning: kurtosistest only valid for n>=20 ... continuing anyway, n=10\n",
      "  warnings.warn(\"kurtosistest only valid for n>=20 ... continuing \"\n"
     ]
    }
   ],
   "source": [
    "# Print model summary\n",
    "print(model.summary())"
   ]
  },
  {
   "cell_type": "code",
   "execution_count": 7,
   "id": "eab800bc",
   "metadata": {},
   "outputs": [],
   "source": [
    "# Calculate VIF for each predictor\n",
    "vif_data = pd.DataFrame()\n",
    "vif_data[\"feature\"] = X.columns\n",
    "vif_data[\"VIF\"] = [variance_inflation_factor(X.values, i) for i in range(X.shape[1])]"
   ]
  },
  {
   "cell_type": "code",
   "execution_count": 8,
   "id": "5d275a7c",
   "metadata": {},
   "outputs": [
    {
     "name": "stdout",
     "output_type": "stream",
     "text": [
      "VIF:\n",
      "             feature          VIF\n",
      "0              const  1339.101942\n",
      "1                Age   424.314320\n",
      "2  YearsOfExperience   465.283981\n",
      "3     EducationYears    30.520631\n"
     ]
    }
   ],
   "source": [
    "# Print VIF values\n",
    "print(\"VIF:\")\n",
    "\n",
    "print(vif_data)"
   ]
  },
  {
   "cell_type": "markdown",
   "id": "680fa90d",
   "metadata": {},
   "source": [
    "* In our case, both \"Age\" and \"YearsOfExperience\" have high VIF values, suggesting that these two predictors are highly correlated with each other, which is a form of multicollinearity.\n",
    "\n",
    "* Avoid multicolinearity by:\n",
    "    * Feature Selection: most relevant features are selected\n",
    "    * Combine Highly Correlated Variables: Thus preserves the information of both the varaibles.\n",
    "    * Regularization Techniques: it shrinks the coefficient estimates.\n",
    "    * Principal Component Analysis (PCA): Transform correlated variables into a new set of orthogonal (uncorrelated) variables (principal components)\n",
    "    * Collect More Data: avoid small sample with high variability\n",
    "    * Domain Knowledge"
   ]
  },
  {
   "cell_type": "markdown",
   "id": "472bfc6f",
   "metadata": {},
   "source": [
    "* **Levels of measurement** : \n",
    "    * Regression: \n",
    "        * Dependent variable: Metric, Nominal, Ordinal\n",
    "        * Independent variable: Metric\n",
    "    * Classification: \n",
    "        * Dependent variable: Metric, Nominal, Ordinal\n",
    "        * Independent variable: Nominal, Ordinal\n",
    "    * **Metric** : \n",
    "        * Metric data, also known as interval/ratio data, have both meaningful order and consistent intervals between values. These data can be treated as numerical and support arithmetic operations.\n",
    "        * Interval data have a meaningful order and equal intervals, but they don't have a true \"zero\" point (zero doesn't mean the absence of the quantity being measured).\n",
    "        * Ratio data have a meaningful order, equal intervals, and a true \"zero\" point (zero indicates the absence of the quantity being measured).\n",
    "        * Examples: Temperature in Celsius (interval scale), age in years (ratio scale), height in centimeters (ratio scale), income in dollars (ratio scale).\n",
    "    * **Nominal** : \n",
    "        * Nominal data represent categories or labels without any inherent order or ranking.\n",
    "        * The data at this scale are typically used to represent categories or groups that don't have numerical value, such as colors, names, or types of objects.\n",
    "        * Examples: Gender (e.g., \"male\" or \"female\"), nationality (e.g., \"USA,\" \"Canada,\" \"France\"), types of animals (e.g., \"dog,\" \"cat,\" \"bird\").\n",
    "    * **Ordinal** :\n",
    "        * Ordinal data represent categories or labels with a meaningful order or ranking, but the differences between categories are not consistent or meaningful.\n",
    "        * The data at this scale have a natural order but lack the property of equal intervals. The actual distances between values are not well-defined.\n",
    "        * Examples: Education level (e.g., \"high school,\" \"bachelor's degree,\" \"master's degree\"), customer satisfaction ratings (e.g., \"low,\" \"medium,\" \"high\"), socioeconomic status (e.g., \"low,\" \"middle,\" \"high\")."
   ]
  },
  {
   "cell_type": "code",
   "execution_count": null,
   "id": "38e87a9c",
   "metadata": {},
   "outputs": [],
   "source": []
  }
 ],
 "metadata": {
  "kernelspec": {
   "display_name": "Python 3 (ipykernel)",
   "language": "python",
   "name": "python3"
  },
  "language_info": {
   "codemirror_mode": {
    "name": "ipython",
    "version": 3
   },
   "file_extension": ".py",
   "mimetype": "text/x-python",
   "name": "python",
   "nbconvert_exporter": "python",
   "pygments_lexer": "ipython3",
   "version": "3.11.3"
  }
 },
 "nbformat": 4,
 "nbformat_minor": 5
}
